{
 "cells": [
  {
   "cell_type": "markdown",
   "id": "8cfdad15",
   "metadata": {},
   "source": [
    "1.\tWrite a Python Program to Find the Factorial of a Number?"
   ]
  },
  {
   "cell_type": "code",
   "execution_count": 57,
   "id": "923952b0",
   "metadata": {},
   "outputs": [
    {
     "data": {
      "text/plain": [
       "120"
      ]
     },
     "execution_count": 57,
     "metadata": {},
     "output_type": "execute_result"
    }
   ],
   "source": [
    "def factorial(a):\n",
    "    \"\"\"returns factorial\"\"\"\n",
    "    try:\n",
    "        val=1\n",
    "        for i in range(1,a+1):\n",
    "            val=val*i\n",
    "    except:\n",
    "        print(\"not a number\")\n",
    "    return val\n",
    "factorial(5)"
   ]
  },
  {
   "cell_type": "markdown",
   "id": "3c7a8307",
   "metadata": {},
   "source": [
    "2.\tWrite a Python Program to Display the multiplication Table?"
   ]
  },
  {
   "cell_type": "code",
   "execution_count": 58,
   "id": "c1636fb1",
   "metadata": {},
   "outputs": [
    {
     "name": "stdout",
     "output_type": "stream",
     "text": [
      "8 * 1 = 8\n",
      "8 * 2 = 16\n",
      "8 * 3 = 24\n",
      "8 * 4 = 32\n",
      "8 * 5 = 40\n",
      "8 * 6 = 48\n",
      "8 * 7 = 56\n",
      "8 * 8 = 64\n",
      "8 * 9 = 72\n",
      "8 * 10 = 80\n"
     ]
    }
   ],
   "source": [
    "def tableMul(a):\n",
    "    \"\"\"display multiplication table\"\"\"\n",
    "    try:\n",
    "        for i in range(1,11):\n",
    "            print(str(a)+\" * \"+str(i)+\" = \"+str(a*i))\n",
    "    except:\n",
    "        print(\"not a valid entry\")\n",
    "tableMul(8)"
   ]
  },
  {
   "cell_type": "markdown",
   "id": "72a7f2be",
   "metadata": {},
   "source": [
    "3.\tWrite a Python Program to Print the Fibonacci sequence?"
   ]
  },
  {
   "cell_type": "code",
   "execution_count": 59,
   "id": "7ee78839",
   "metadata": {},
   "outputs": [
    {
     "data": {
      "text/plain": [
       "34"
      ]
     },
     "execution_count": 59,
     "metadata": {},
     "output_type": "execute_result"
    }
   ],
   "source": [
    "def fibo(a):\n",
    "    \"\"\"returns finacci of n \"\"\"\n",
    "    try:\n",
    "        if a==0:\n",
    "            return 0\n",
    "        elif a==2 or a==1:\n",
    "            return 1\n",
    "        else:\n",
    "            return (fibo(a-1)+fibo(a-2))\n",
    "    except:\n",
    "        print(\"not a number\")\n",
    "\n",
    "fibo(9)"
   ]
  },
  {
   "cell_type": "markdown",
   "id": "e3876bf9",
   "metadata": {},
   "source": [
    "4.\tWrite a Python Program to Check Armstrong Number?"
   ]
  },
  {
   "cell_type": "code",
   "execution_count": 60,
   "id": "60c63803",
   "metadata": {},
   "outputs": [
    {
     "data": {
      "text/plain": [
       "True"
      ]
     },
     "execution_count": 60,
     "metadata": {},
     "output_type": "execute_result"
    }
   ],
   "source": [
    "import math\n",
    "def checkArmstrong(a):\n",
    "    \"\"\"check wether a number is armstrong number or not\"\"\"\n",
    "    try:\n",
    "        n=a\n",
    "        count=0\n",
    "        l=[]\n",
    "        sum=0\n",
    "        while n!=0:\n",
    "            l.append(n%10)\n",
    "            n=int(n/10)\n",
    "            count=count+1\n",
    "        for i in l:\n",
    "            sum=sum+pow(i,count)\n",
    "        if a==sum:\n",
    "            return True\n",
    "        else:\n",
    "            return False\n",
    "    except:\n",
    "        print(\"not a number\")\n",
    "\n",
    "checkArmstrong(370)"
   ]
  },
  {
   "cell_type": "markdown",
   "id": "a59e0d0a",
   "metadata": {},
   "source": [
    "5.\tWrite a Python Program to Find Armstrong Number in an Interval?"
   ]
  },
  {
   "cell_type": "code",
   "execution_count": 61,
   "id": "ea21b349",
   "metadata": {},
   "outputs": [
    {
     "name": "stdout",
     "output_type": "stream",
     "text": [
      "153\n",
      "370\n",
      "371\n",
      "407\n"
     ]
    }
   ],
   "source": [
    "a,b=10,1000\n",
    "for i in range (a,b):\n",
    "    if (checkArmstrong(i)):\n",
    "        print(i)"
   ]
  },
  {
   "cell_type": "markdown",
   "id": "18ff1497",
   "metadata": {},
   "source": [
    "6.\tWrite a Python Program to Find the Sum of Natural Numbers?"
   ]
  },
  {
   "cell_type": "code",
   "execution_count": 75,
   "id": "dc738fc1",
   "metadata": {},
   "outputs": [
    {
     "data": {
      "text/plain": [
       "55.0"
      ]
     },
     "execution_count": 75,
     "metadata": {},
     "output_type": "execute_result"
    }
   ],
   "source": [
    "def findSum(n):\n",
    "    \"\"\"returns sum of n natural numbers\"\"\"\n",
    "    try:\n",
    "        return  n * (n + 1) /2\n",
    "    except:\n",
    "        print(\"exception\")\n",
    "findSum(10)"
   ]
  },
  {
   "cell_type": "code",
   "execution_count": null,
   "id": "d3128ef4",
   "metadata": {},
   "outputs": [],
   "source": []
  },
  {
   "cell_type": "code",
   "execution_count": null,
   "id": "b700106b",
   "metadata": {},
   "outputs": [],
   "source": []
  }
 ],
 "metadata": {
  "kernelspec": {
   "display_name": "Python 3",
   "language": "python",
   "name": "python3"
  },
  "language_info": {
   "codemirror_mode": {
    "name": "ipython",
    "version": 3
   },
   "file_extension": ".py",
   "mimetype": "text/x-python",
   "name": "python",
   "nbconvert_exporter": "python",
   "pygments_lexer": "ipython3",
   "version": "3.8.8"
  }
 },
 "nbformat": 4,
 "nbformat_minor": 5
}
