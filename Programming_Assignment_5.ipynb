{
 "cells": [
  {
   "cell_type": "markdown",
   "id": "eef1d499",
   "metadata": {},
   "source": [
    "1.\tWrite a Python Program to Find LCM?"
   ]
  },
  {
   "cell_type": "code",
   "execution_count": 4,
   "id": "bd2921d6",
   "metadata": {},
   "outputs": [
    {
     "data": {
      "text/plain": [
       "72"
      ]
     },
     "execution_count": 4,
     "metadata": {},
     "output_type": "execute_result"
    }
   ],
   "source": [
    "def lcm(num1,num2):\n",
    "    \"\"\"returns lcm of num1 and num2\"\"\"\n",
    "    try:\n",
    "        if(num1 > num2 ):  \n",
    "            max= num1\n",
    "        else:\n",
    "            max= num2\n",
    "        while(True):\n",
    "            if(max % num1 == 0 and max % num2 == 0):   \n",
    "                return max\n",
    "                break\n",
    "            max= max+ 1\n",
    "    except:\n",
    "        print(\"exception\")\n",
    "lcm(8,9)"
   ]
  },
  {
   "cell_type": "code",
   "execution_count": 5,
   "id": "bf5e177b",
   "metadata": {},
   "outputs": [
    {
     "data": {
      "text/plain": [
       "6"
      ]
     },
     "execution_count": 5,
     "metadata": {},
     "output_type": "execute_result"
    }
   ],
   "source": [
    "def hcf(x,y):\n",
    "    \"\"\"return hcf of x and y\"\"\"\n",
    "    try:\n",
    "        if x > y:\n",
    "            smaller = y\n",
    "        else:\n",
    "            smaller = x\n",
    "        for i in range(1, smaller+1):\n",
    "            if((x % i == 0) and (y % i == 0)):\n",
    "                hcf = i \n",
    "        return hcf\n",
    "    except:\n",
    "        print(\"exception\")\n",
    "hcf(54,24)"
   ]
  },
  {
   "cell_type": "markdown",
   "id": "b44d3216",
   "metadata": {},
   "source": [
    "3.\tWrite a Python Program to Convert Decimal to Binary, Octal and Hexadecimal?"
   ]
  },
  {
   "cell_type": "code",
   "execution_count": 3,
   "id": "c487afd8",
   "metadata": {},
   "outputs": [],
   "source": [
    "def decimalToBinary(n):\n",
    "    if(n > 1):\n",
    "        decimalToBinary(n//2)\n",
    "        print(n%2, end=' ')\n",
    "def decimalToOctal(n):\n",
    "    decimal_value = 0 \n",
    "    base = 1  \n",
    "    while (n): \n",
    "        last_digit = n % 10\n",
    "        num = int(n / 10)\n",
    "        decimal_value += last_digit * base\n",
    "        base = base * 8  \n",
    "    return decimal_value\n",
    "def decimalToHex(n):\n",
    "    return hex(n)\n"
   ]
  },
  {
   "cell_type": "markdown",
   "id": "81af3cb2",
   "metadata": {},
   "source": [
    "4.\tWrite a Python Program To Find ASCII value of a character?"
   ]
  },
  {
   "cell_type": "code",
   "execution_count": 3,
   "id": "7768328b",
   "metadata": {},
   "outputs": [
    {
     "data": {
      "text/plain": [
       "66"
      ]
     },
     "execution_count": 3,
     "metadata": {},
     "output_type": "execute_result"
    }
   ],
   "source": [
    "def printAscii(digit):\n",
    "    return ord(digit)\n",
    "printAscii('B')"
   ]
  },
  {
   "cell_type": "markdown",
   "id": "56d45e26",
   "metadata": {},
   "source": [
    "5.\tWrite a Python Program to Make a Simple Calculator with 4 basic mathematical operations?"
   ]
  },
  {
   "cell_type": "code",
   "execution_count": 26,
   "id": "c38fa635",
   "metadata": {},
   "outputs": [
    {
     "name": "stdout",
     "output_type": "stream",
     "text": [
      "enter 1st integer: 8\n",
      "enter 2nd integer: 5\n",
      "enter operator: *\n"
     ]
    },
    {
     "data": {
      "text/plain": [
       "40"
      ]
     },
     "execution_count": 26,
     "metadata": {},
     "output_type": "execute_result"
    }
   ],
   "source": [
    "def calci(num1,num2,op):\n",
    "    try:\n",
    "        if op=='+':\n",
    "            return num1+num2\n",
    "        elif op=='-':\n",
    "            return num1-num2\n",
    "        elif op=='*':\n",
    "            return num1*num2\n",
    "        elif op=='/':\n",
    "            return num1/num2\n",
    "    except Exception as e:\n",
    "        print(\"exception\"+str(e))\n",
    "a=input(\"enter 1st integer: \")\n",
    "b=input(\"enter 2nd integer: \")\n",
    "c=input(\"enter operator: \")\n",
    "calci(int(a),int(b),c)"
   ]
  },
  {
   "cell_type": "code",
   "execution_count": null,
   "id": "90ab12e5",
   "metadata": {},
   "outputs": [],
   "source": []
  }
 ],
 "metadata": {
  "kernelspec": {
   "display_name": "Python 3",
   "language": "python",
   "name": "python3"
  },
  "language_info": {
   "codemirror_mode": {
    "name": "ipython",
    "version": 3
   },
   "file_extension": ".py",
   "mimetype": "text/x-python",
   "name": "python",
   "nbconvert_exporter": "python",
   "pygments_lexer": "ipython3",
   "version": "3.8.8"
  }
 },
 "nbformat": 4,
 "nbformat_minor": 5
}
