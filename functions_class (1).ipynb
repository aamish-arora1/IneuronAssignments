{
 "cells": [
  {
   "cell_type": "markdown",
   "id": "033a84e6",
   "metadata": {},
   "source": [
    "1 . you have to write a fun which will take string and return a len of "
   ]
  },
  {
   "cell_type": "code",
   "execution_count": 9,
   "id": "3a35b7d8",
   "metadata": {},
   "outputs": [],
   "source": [
    "def length_string1(s):\n",
    "    \"\"\"return length of string or no of characters in a string\"\"\"\n",
    "    if(type(s)==str):\n",
    "        count=0\n",
    "        for i in s:\n",
    "            count=count+1\n",
    "        return count\n",
    "    else:\n",
    "        print(\"Entered value is not a string\")"
   ]
  },
  {
   "cell_type": "markdown",
   "id": "d78694ce",
   "metadata": {},
   "source": [
    "2 . write a fun which will be able to print an index of all premitive element which you will pass \n"
   ]
  },
  {
   "cell_type": "code",
   "execution_count": 88,
   "id": "83ed952e",
   "metadata": {},
   "outputs": [
    {
     "name": "stdout",
     "output_type": "stream",
     "text": [
      "index of 1 is 0\n",
      "index of 2 is 1\n",
      "index of 4 is 3\n",
      "index of a is 4\n",
      "index of b is 5\n"
     ]
    }
   ],
   "source": [
    "def index_of2(a):\n",
    "    \"\"\"return index of all primitive elements\"\"\"\n",
    "    count=0\n",
    "    for i in a:\n",
    "        if type(i)==list or type(i)==set or type(i)==dict:\n",
    "            count=count+1\n",
    "            continue\n",
    "        else:\n",
    "            print(\"index of \"+str(i)+\" is \"+str(count))\n",
    "            count=count+1\n",
    "index_of([1,2,{124,\"abc\"},4,'a','b',[1,2,4]])"
   ]
  },
  {
   "cell_type": "markdown",
   "id": "df951063",
   "metadata": {},
   "source": [
    "3 . Write a fun which will take input as a dict and give me out as a list of all the values \n",
    "even in case of 2 level nesting it should work . "
   ]
  },
  {
   "cell_type": "code",
   "execution_count": 89,
   "id": "81be6cce",
   "metadata": {},
   "outputs": [
    {
     "data": {
      "text/plain": [
       "[45, 56, {'c1': 'ab', 'c2': 5}, 48, 42, 23, 34, 2, 5, 6, 45, 45, 34, 2, 'abc']"
      ]
     },
     "execution_count": 89,
     "metadata": {},
     "output_type": "execute_result"
    }
   ],
   "source": [
    "def dict_to_list3(a):\n",
    "    \"\"\"returns list of all values of dictionary passed\"\"\"\n",
    "    l=[]\n",
    "    if type(a)==dict:\n",
    "        for i in a.values():\n",
    "            if type(i)==dict:\n",
    "                for d in i.values():\n",
    "                     l.append(d)\n",
    "            elif(type(i)==set or type(i)==list or type(i)==tuple):\n",
    "                for j in i:\n",
    "                    l.append(j)\n",
    "            else:\n",
    "                l.append(i)\n",
    "    return l \n",
    "d1={\"a\":{\"a1\":45,\"a2\":56,\"a3\":{\"c1\":\"ab\",\"c2\":5}},\"b\":{\"b1\":48,\"b2\":42,\"b3\":23},\"g\":34,\"h\":[2,5,6,45],\"i\":(45,34,2),'k':\"abc\"}\n",
    "dict_to_list(d1)"
   ]
  },
  {
   "cell_type": "markdown",
   "id": "d07a01f0",
   "metadata": {},
   "source": [
    "4 . write a fun which will take another function as an input and return me an output \n"
   ]
  },
  {
   "cell_type": "code",
   "execution_count": 92,
   "id": "c8129545",
   "metadata": {},
   "outputs": [
    {
     "data": {
      "text/plain": [
       "'length of string = 4'"
      ]
     },
     "execution_count": 92,
     "metadata": {},
     "output_type": "execute_result"
    }
   ],
   "source": [
    "def input_function4(a):\n",
    "    s=\"length of string = \"+str(a)\n",
    "    return s;\n",
    "input_function(length_string(\"ancb\"))"
   ]
  },
  {
   "cell_type": "markdown",
   "id": "74bf3da3",
   "metadata": {},
   "source": [
    "5. write a function whihc will take multiple list as a input and give me concatnation of all the element as \n",
    "and output"
   ]
  },
  {
   "cell_type": "code",
   "execution_count": 98,
   "id": "48a7f75f",
   "metadata": {},
   "outputs": [
    {
     "data": {
      "text/plain": [
       "['a', 'b', 'c', 2, 1, 5, 6, 7, 8]"
      ]
     },
     "execution_count": 98,
     "metadata": {},
     "output_type": "execute_result"
    }
   ],
   "source": [
    "def list_concat5(*args):\n",
    "    l=[]\n",
    "    for i in args:\n",
    "        if type(i)==list:\n",
    "            for j in i:\n",
    "                if type(j)==list:\n",
    "                    list_concat(j)\n",
    "                else:\n",
    "                    l.append(j)\n",
    "    return l\n",
    "\n",
    "list_concat(['a','b','c',2,['c','d']],[1,5,6,7,8],{45,23})"
   ]
  },
  {
   "cell_type": "markdown",
   "id": "cc4be4ec",
   "metadata": {},
   "source": [
    "6 . write a function which will be able to take a list as an input return an index of each element "
   ]
  },
  {
   "cell_type": "code",
   "execution_count": 103,
   "id": "3a00d81e",
   "metadata": {},
   "outputs": [
    {
     "name": "stdout",
     "output_type": "stream",
     "text": [
      "index of 1 is 0\n",
      "index of 2 is 1\n",
      "index of 4 is 2\n",
      "index of ab is 3\n",
      "index of (12, 45) is 4\n"
     ]
    }
   ],
   "source": [
    "def indexOfElement6(a):\n",
    "    \"\"\"Prints index of all elements in list\"\"\"\n",
    "    try:\n",
    "        if type(a)==list:\n",
    "            count=0\n",
    "            for i in a:\n",
    "                print(\"index of \"+str(i)+\" is \"+str(count))\n",
    "                count=count+1\n",
    "    except Exception as e:\n",
    "        print(str(e))\n",
    "\n",
    "indexOfElement([1,2,4,'ab',(12,45)])"
   ]
  },
  {
   "cell_type": "markdown",
   "id": "fb169d0b",
   "metadata": {},
   "source": [
    "7 . Write a function which will whould return list of all the file name from a directory . "
   ]
  },
  {
   "cell_type": "code",
   "execution_count": 116,
   "id": "a820ad41",
   "metadata": {},
   "outputs": [
    {
     "data": {
      "text/plain": [
       "['.ipynb_checkpoints',\n",
       " 'Adobe Lightroom.lnk',\n",
       " 'Appium.lnk',\n",
       " 'assignment_2.ipynb',\n",
       " 'desktop.ini',\n",
       " 'docs',\n",
       " 'Eclipse IDE for Enterprise Java Developers - 2020-09.lnk',\n",
       " 'functions_class.ipynb',\n",
       " 'ineuron python',\n",
       " 'logs',\n",
       " 'Old Firefox Data',\n",
       " 'Pocket Tanks.lnk',\n",
       " 'Spotify.lnk',\n",
       " 'Thumbs.db',\n",
       " 'Untitled.ipynb',\n",
       " 'Untitled1.ipynb',\n",
       " 'Untitled2.ipynb',\n",
       " 'Untitled3.ipynb',\n",
       " '~$ 14BCS1003 (1).docx',\n",
       " '~$ESR1.docx',\n",
       " '~$mish Arora Sep2020.docx']"
      ]
     },
     "execution_count": 116,
     "metadata": {},
     "output_type": "execute_result"
    }
   ],
   "source": [
    "import os\n",
    "def file_from_dir7(path):\n",
    "    try:\n",
    "        l=os.listdir(path)\n",
    "        return l;\n",
    "    except Exception as e:\n",
    "        print(\"exception : \"+str(e))\n",
    "file_from_dir(os.getcwd())"
   ]
  },
  {
   "cell_type": "markdown",
   "id": "6240df9e",
   "metadata": {},
   "source": [
    "8  . write a function which will be able to show your system configuration . "
   ]
  },
  {
   "cell_type": "code",
   "execution_count": 153,
   "id": "e4cb6631",
   "metadata": {},
   "outputs": [
    {
     "name": "stdout",
     "output_type": "stream",
     "text": [
      "Windows\n",
      "('64bit', 'WindowsPE')\n",
      "uname_result(system='Windows', node='AroraAamish', release='10', version='10.0.19041', machine='AMD64', processor='Intel64 Family 6 Model 69 Stepping 1, GenuineIntel')\n"
     ]
    }
   ],
   "source": [
    "import platform\n",
    "def showInfo8():\n",
    "    \"\"\"Returns system info\"\"\"\n",
    "    try:\n",
    "        print(platform.system())\n",
    "        print(platform.architecture())\n",
    "        print(platform.uname())\n",
    "    except Exception as e:\n",
    "        print(\"Exception : \"+str(e))\n",
    "\n",
    "showInfo()\n"
   ]
  },
  {
   "cell_type": "markdown",
   "id": "038fd3fa",
   "metadata": {},
   "source": [
    "9 . write a function which will be able to show date and time  . "
   ]
  },
  {
   "cell_type": "code",
   "execution_count": 142,
   "id": "454680c1",
   "metadata": {},
   "outputs": [
    {
     "ename": "TypeError",
     "evalue": "function missing required argument 'year' (pos 1)",
     "output_type": "error",
     "traceback": [
      "\u001b[1;31m---------------------------------------------------------------------------\u001b[0m",
      "\u001b[1;31mTypeError\u001b[0m                                 Traceback (most recent call last)",
      "\u001b[1;32m<ipython-input-142-2dde7744994b>\u001b[0m in \u001b[0;36m<module>\u001b[1;34m\u001b[0m\n\u001b[0;32m      1\u001b[0m \u001b[1;32mimport\u001b[0m \u001b[0mdatetime\u001b[0m \u001b[1;32mas\u001b[0m \u001b[0mdt\u001b[0m\u001b[1;33m\u001b[0m\u001b[1;33m\u001b[0m\u001b[0m\n\u001b[1;32m----> 2\u001b[1;33m \u001b[0md\u001b[0m\u001b[1;33m=\u001b[0m\u001b[0mdt\u001b[0m\u001b[1;33m.\u001b[0m\u001b[0mdatetime\u001b[0m\u001b[1;33m(\u001b[0m\u001b[1;33m)\u001b[0m\u001b[1;33m.\u001b[0m\u001b[0mnow\u001b[0m\u001b[1;33m(\u001b[0m\u001b[1;33m)\u001b[0m\u001b[1;33m\u001b[0m\u001b[1;33m\u001b[0m\u001b[0m\n\u001b[0m\u001b[0;32m      3\u001b[0m \u001b[1;33m\u001b[0m\u001b[0m\n\u001b[0;32m      4\u001b[0m \u001b[0mprint\u001b[0m\u001b[1;33m(\u001b[0m\u001b[1;34m'current'\u001b[0m\u001b[1;33m,\u001b[0m\u001b[0md\u001b[0m\u001b[1;33m)\u001b[0m\u001b[1;33m\u001b[0m\u001b[1;33m\u001b[0m\u001b[0m\n",
      "\u001b[1;31mTypeError\u001b[0m: function missing required argument 'year' (pos 1)"
     ]
    }
   ],
   "source": [
    "import datetime as dt\n",
    "d=dt.datetime().now()\n",
    "\n",
    "print('current',d)"
   ]
  },
  {
   "cell_type": "markdown",
   "id": "bbdd4eaa",
   "metadata": {},
   "source": [
    "10 . write a function whihc will be able to read a image file and show it to you ."
   ]
  },
  {
   "cell_type": "code",
   "execution_count": 154,
   "id": "317b8a05",
   "metadata": {},
   "outputs": [
    {
     "data": {
      "image/png": "[encoded data removed]",
      "text/plain": [
       "<Figure size 432x288 with 1 Axes>"
      ]
     },
     "metadata": {
      "needs_background": "light"
     },
     "output_type": "display_data"
    }
   ],
   "source": [
    "import matplotlib.image as img\n",
    "import matplotlib.pyplot as plt\n",
    "\n",
    "def display10(name):\n",
    "    \"\"\"display image with name\"\"\"\n",
    "    try:\n",
    "        image=img.imread(name)\n",
    "        plt.imshow(image)\n",
    "    except Exception as e:\n",
    "        print(\"Exception : \"+str(e))\n",
    "display('abc.jpg')"
   ]
  },
  {
   "cell_type": "markdown",
   "id": "2276b8e9",
   "metadata": {},
   "source": [
    "11 . write a function which can read video file and play for you . "
   ]
  },
  {
   "cell_type": "markdown",
   "id": "ee3fd625",
   "metadata": {},
   "source": [
    "12  . write a function whihc can move a file from one directory to another directory . "
   ]
  },
  {
   "cell_type": "code",
   "execution_count": 158,
   "id": "9459d447",
   "metadata": {},
   "outputs": [],
   "source": [
    "import shutil as sh\n",
    "def moveFile12(src,dst):\n",
    "    \"\"\"moves a file from one dir to another \"\"\"\n",
    "    try:\n",
    "        sh.move(src,dst)\n",
    "    except Exception as e:\n",
    "        print(\"Exception : \"+str(e))\n",
    "\n",
    "src=r'C:\\Users\\Aamish\\Desktop\\assignment_2.ipynb'\n",
    "dst=r'C:\\Users\\Aamish\\Desktop\\ineuron python\\assignment_2.ipynb'\n",
    "\n",
    "moveFile(src,dst)"
   ]
  },
  {
   "cell_type": "markdown",
   "id": "775e17e6",
   "metadata": {},
   "source": [
    "13 . write a function which will be able to shutdonw your system . \n"
   ]
  },
  {
   "cell_type": "code",
   "execution_count": 179,
   "id": "a8de2993",
   "metadata": {},
   "outputs": [
    {
     "data": {
      "text/plain": [
       "0"
      ]
     },
     "execution_count": 179,
     "metadata": {},
     "output_type": "execute_result"
    }
   ],
   "source": [
    "def shutSystem13():\n",
    "    \"\"\"Function with shutdown the system\"\"\"\n",
    "    try:\n",
    "        os.system(\"shutdown /s\")\n",
    "    except Exception as e:\n",
    "        print(\"Exception: \"+str(e))"
   ]
  },
  {
   "cell_type": "markdown",
   "id": "bfdec1d6",
   "metadata": {},
   "source": [
    "14 . write a function whihc will be able to access your mail . "
   ]
  },
  {
   "cell_type": "code",
   "execution_count": 178,
   "id": "cf73a3d2",
   "metadata": {},
   "outputs": [
    {
     "name": "stdout",
     "output_type": "stream",
     "text": [
      "OK\n"
     ]
    },
    {
     "data": {
      "text/plain": [
       "<imaplib.IMAP4_SSL at 0x2a92b5e70d0>"
      ]
     },
     "execution_count": 178,
     "metadata": {},
     "output_type": "execute_result"
    }
   ],
   "source": [
    "import imaplib\n",
    "def openMail14(email):\n",
    "    server=\"imap.gmail.com\"\n",
    "    port=993\n",
    "    password=\"\"\n",
    "    with open(\"password.txt\",\"r\") as f:\n",
    "        password=f.read().strip()\n",
    "        \n",
    "    mail=imaplib.IMAP4_SSL(server)\n",
    "    mail.login(email,password)\n",
    "    mail.select('INBOX')\n",
    "    status,response=mail.uid('search','X-GM-RAW \"category:Updates\"')\n",
    "    print(status)\n",
    "  \n",
    "    return mail\n",
    "\n",
    "openMail(\"aamish.arora1@gmail.com\")"
   ]
  },
  {
   "cell_type": "markdown",
   "id": "5da0aa3f",
   "metadata": {},
   "source": [
    "15 . write a func bywhcih i can send a mail to anyone "
   ]
  },
  {
   "cell_type": "markdown",
   "id": "a19c98f0",
   "metadata": {},
   "source": [
    "16. write a func to read a complete PDf file . "
   ]
  },
  {
   "cell_type": "code",
   "execution_count": 4,
   "id": "9e321fc3",
   "metadata": {},
   "outputs": [
    {
     "name": "stdout",
     "output_type": "stream",
     "text": [
      "Requirement already satisfied: PyPDF2 in d:\\so\\anaconda\\lib\\site-packages (1.26.0)\n",
      "Note: you may need to restart the kernel to use updated packages.\n"
     ]
    }
   ],
   "source": [
    "pip install PyPDF2"
   ]
  },
  {
   "cell_type": "code",
   "execution_count": 5,
   "id": "26412ae6",
   "metadata": {},
   "outputs": [
    {
     "name": "stdout",
     "output_type": "stream",
     "text": [
      "1\n",
      "1. Why are functions advantageous to have in your programs?\n",
      " \n",
      "2. When does the code in a function run: when it's specified or when it's called?\n",
      " \n",
      "3. What statement creates a function?\n",
      " \n",
      "4. What is the difference between a function and a function call?\n",
      " \n",
      "5. How many global scopes are there in a Python program? How many local scopes?\n",
      " \n",
      "6. What happens to variables in a local scope when the function call returns?\n",
      " \n",
      "7. What is the concept of a retu\n",
      "rn value? Is it possible to have a return value in an expression?\n",
      " \n",
      "8. If a function does not have a return statement, what is the return value of a call to that function?\n",
      " \n",
      "9. How do you make a function variable refer to the global variable?\n",
      " \n",
      "10. What is the d\n",
      "ata type of None?\n",
      " \n",
      "11. What does the sentence import areallyourpetsnamederic do?\n",
      " \n",
      "12. If you had a bacon() feature in a spam module, what would you call it after importing spam?\n",
      " \n",
      "13. What can you do to save a programme from crashing if it encounters an error?\n",
      " \n",
      "14. What is the purpose of the try clause? What is the purpose of the except clause?\n",
      " \n",
      " \n",
      "\n"
     ]
    }
   ],
   "source": [
    "import PyPDF2\n",
    "def readPDF16(name):\n",
    "    \"\"\"Function will read pdf and return pdf content\"\"\"\n",
    "    try:\n",
    "        obj = open(''+name+'.pdf', 'rb')\n",
    "        read = PyPDF2.PdfFileReader(obj)\n",
    "        print(read.numPages)\n",
    "        obj = read.getPage(0)\n",
    "        print(obj.extractText())\n",
    "    except Exception as e:\n",
    "        print(\"Exception: \"+str(e))\n",
    "\n",
    "readPDF(\"Assignment_3-converted\")"
   ]
  },
  {
   "cell_type": "markdown",
   "id": "cad5caf8",
   "metadata": {},
   "source": [
    "17. write a function to read a word file ."
   ]
  },
  {
   "cell_type": "code",
   "execution_count": 12,
   "id": "72c43ebc",
   "metadata": {},
   "outputs": [
    {
     "name": "stdout",
     "output_type": "stream",
     "text": [
      "Exception: 'charmap' codec can't decode byte 0x81 in position 126: character maps to <undefined>\n"
     ]
    }
   ],
   "source": [
    "def readWord17(name):\n",
    "    try:\n",
    "        f=open(''+name+'.docx','r')\n",
    "        f.read()\n",
    "    except Exception as e:\n",
    "        print(\"Exception: \"+str(e))\n",
    "readWord(\"Assignment_3\")"
   ]
  },
  {
   "cell_type": "markdown",
   "id": "63a32322",
   "metadata": {},
   "source": [
    "18 . write a function which can help you to filter only word file from a directory . "
   ]
  },
  {
   "cell_type": "code",
   "execution_count": 14,
   "id": "35ca432b",
   "metadata": {},
   "outputs": [
    {
     "name": "stdout",
     "output_type": "stream",
     "text": [
      "Assignment_3.docx\n",
      "~$ 14BCS1003 (1).docx\n",
      "~$ESR1.docx\n",
      "~$mish Arora Sep2020.docx\n"
     ]
    }
   ],
   "source": [
    "import os\n",
    "def file_from_dir18(path):\n",
    "    \"\"\"returns word files\"\"\"\n",
    "    try:\n",
    "        for i in os.listdir(path):\n",
    "            if i.endswith(\".docx\"):\n",
    "                print(i)\n",
    "    except Exception as e:\n",
    "        print(\"exception : \"+str(e))\n",
    "file_from_dir(os.getcwd())"
   ]
  },
  {
   "cell_type": "markdown",
   "id": "49e67dfc",
   "metadata": {},
   "source": [
    "19 . write a function by which you can print an ip address of your system "
   ]
  },
  {
   "cell_type": "code",
   "execution_count": 15,
   "id": "4b4b9b1d",
   "metadata": {},
   "outputs": [],
   "source": [
    "import socket\n",
    "\n",
    "def printIP19():\n",
    "    try:\n",
    "        host=socket.gethostname()\n",
    "        ip=socket.gethostbyname(host)\n",
    "        print(\"IP Address is:\", ip)\n",
    "    except Exception as e:\n",
    "        print(\"exception : \"+str(e))"
   ]
  },
  {
   "cell_type": "code",
   "execution_count": 16,
   "id": "7dcbdf59",
   "metadata": {},
   "outputs": [
    {
     "name": "stdout",
     "output_type": "stream",
     "text": [
      "IP Address is: 192.168.137.1\n"
     ]
    }
   ],
   "source": [
    "printIP()"
   ]
  },
  {
   "cell_type": "markdown",
   "id": "662b27dd",
   "metadata": {},
   "source": [
    "20 . write a function by which you will be able to append two PDF files . "
   ]
  },
  {
   "cell_type": "code",
   "execution_count": 17,
   "id": "e3bcadf5",
   "metadata": {},
   "outputs": [],
   "source": [
    "import PyPDF2\n",
    "def mergePDF20(name1,name2):\n",
    "    \"\"\"Function will merge pdf files and return merged pdf\"\"\"\n",
    "    try:\n",
    "        mergeFile = PyPDF2.PdfFileMerger()\n",
    "        mergeFile.append(PyPDF2.PdfFileReader(''+name1+'.pdf', 'rb'))\n",
    "        mergeFile.append(PyPDF2.PdfFileReader(''+name2+'.pdf', 'rb'))\n",
    "        mergeFile.write(\"NewMergedFile.pdf\")\n",
    "    except Exception as e:\n",
    "        print(\"Exception: \"+str(e))\n",
    "\n",
    "mergePDF(\"Assignment_3-converted\",\"Assignment_2-converted\")"
   ]
  },
  {
   "cell_type": "code",
   "execution_count": 19,
   "id": "c97cc35a",
   "metadata": {},
   "outputs": [
    {
     "name": "stdout",
     "output_type": "stream",
     "text": [
      "3\n",
      "1. Why are functions advantageous to have in your programs?\n",
      " \n",
      "2. When does the code in a function run: when it's specified or when it's called?\n",
      " \n",
      "3. What statement creates a function?\n",
      " \n",
      "4. What is the difference between a function and a function call?\n",
      " \n",
      "5. How many global scopes are there in a Python program? How many local scopes?\n",
      " \n",
      "6. What happens to variables in a local scope when the function call returns?\n",
      " \n",
      "7. What is the concept of a retu\n",
      "rn value? Is it possible to have a return value in an expression?\n",
      " \n",
      "8. If a function does not have a return statement, what is the return value of a call to that function?\n",
      " \n",
      "9. How do you make a function variable refer to the global variable?\n",
      " \n",
      "10. What is the d\n",
      "ata type of None?\n",
      " \n",
      "11. What does the sentence import areallyourpetsnamederic do?\n",
      " \n",
      "12. If you had a bacon() feature in a spam module, what would you call it after importing spam?\n",
      " \n",
      "13. What can you do to save a programme from crashing if it encounters an error?\n",
      " \n",
      "14. What is the purpose of the try clause? What is the purpose of the except clause?\n",
      " \n",
      " \n",
      "\n"
     ]
    }
   ],
   "source": [
    "readPDF(\"NewMergedFile\")"
   ]
  },
  {
   "cell_type": "code",
   "execution_count": null,
   "id": "2fac8c51",
   "metadata": {},
   "outputs": [],
   "source": []
  }
 ],
 "metadata": {
  "kernelspec": {
   "display_name": "Python 3",
   "language": "python",
   "name": "python3"
  },
  "language_info": {
   "codemirror_mode": {
    "name": "ipython",
    "version": 3
   },
   "file_extension": ".py",
   "mimetype": "text/x-python",
   "name": "python",
   "nbconvert_exporter": "python",
   "pygments_lexer": "ipython3",
   "version": "3.8.8"
  }
 },
 "nbformat": 4,
 "nbformat_minor": 5
}
