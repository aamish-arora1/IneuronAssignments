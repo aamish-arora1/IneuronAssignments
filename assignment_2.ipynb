{
 "cells": [
  {
   "cell_type": "markdown",
   "id": "dcb8e428",
   "metadata": {},
   "source": [
    "1.What are the two values of the Boolean data type? How do you write them?\n",
    "True and false ; a='True', b='False'\n",
    "\n"
   ]
  },
  {
   "cell_type": "markdown",
   "id": "36e04946",
   "metadata": {},
   "source": [
    "2. What are the three different types of Boolean operators?\n",
    "And '&', Not '!', Or '||'"
   ]
  },
  {
   "cell_type": "markdown",
   "id": "90144f28",
   "metadata": {},
   "source": [
    "3. Make a list of each Boolean operator's truth tables (i.e. every possible combination of Boolean values for the operator and what it evaluate ).\n",
    "And operator:\n",
    "'True' and 'True' = 'True'\n",
    "'True' And 'False' = 'False'\n",
    "'False' and 'False' = 'False'\n",
    "'False' and 'True' = 'False'\n",
    "\n",
    "Or operator:\n",
    "'True' or 'True' = 'True'\n",
    "'True' or 'False' = 'True'\n",
    "'False' or 'False' = 'False'\n",
    "'False' or 'True' = 'True'\n",
    "\n",
    "Not operator:\n",
    "not 'True' = 'False'\n",
    "not 'False' = 'True'\n",
    "\n"
   ]
  },
  {
   "cell_type": "markdown",
   "id": "c67ea630",
   "metadata": {},
   "source": [
    "4. What are the values of the following expressions?\n",
    "(5 > 4) and (3 == 5) ='False'\n",
    "not (5 > 4) ='False'\n",
    "(5 > 4) or (3 == 5)='True'\n",
    "not ((5 > 4) or (3 == 5))='False'\n",
    "(True and True) and (True == False)='False'\n",
    "(not False) or (not True)='True'\n",
    "\n"
   ]
  },
  {
   "cell_type": "markdown",
   "id": "145d0f97",
   "metadata": {},
   "source": [
    "5. What are the six comparison operators?\n",
    "> , < , == , <= , >= , != "
   ]
  },
  {
   "cell_type": "markdown",
   "id": "63dcb549",
   "metadata": {},
   "source": [
    "6. How do you tell the difference between the equal to and assignment operators?Describe a condition and when you would use one.\n",
    "equal to operator is '=='\n",
    "and assignment operator is '='\n",
    "a=3 here we have used assignment operator stating that set value of variable a as 5\n",
    "while in statement a==b we use equal to operator to compare two variable a and b so result will be a boolean value i.e either true or false"
   ]
  },
  {
   "cell_type": "markdown",
   "id": "1b3e1813",
   "metadata": {},
   "source": [
    "7. Identify the three blocks in this code:\n",
    "spam = 0\n",
    "if spam == 10:\n",
    "print('eggs')\n",
    "if spam > 5:\n",
    "print('bacon')\n",
    "else:\n",
    "print('ham')\n",
    "print('spam')\n",
    "print('spam')\n",
    "\n",
    "1st block : \n",
    "if spam == 10:\n",
    "print('eggs')\n",
    "\n",
    "2nd block :\n",
    "if spam > 5:\n",
    "print('bacon')\n",
    "\n",
    "3rd block :\n",
    "else:\n",
    "print('ham')\n",
    "print('spam')\n",
    "print('spam')\n"
   ]
  },
  {
   "cell_type": "markdown",
   "id": "ca211493",
   "metadata": {},
   "source": [
    "8. Write code that prints Hello if 1 is stored in spam, prints Howdy if 2 is stored in spam, and prints Greetings! if anything else is stored in spam.\n",
    "\n",
    "spam = input()\n",
    "if (spam=='1'):\n",
    "    print('Hello')\n",
    "elif (spam=='2'):\n",
    "    print('Howdy')\n",
    "else:\n",
    "    print('Greetings!')\n"
   ]
  },
  {
   "cell_type": "markdown",
   "id": "d90d724d",
   "metadata": {},
   "source": [
    "9.If your programme is stuck in an endless loop, what keys you’ll press?\n",
    "click on Kernel click restart or Esc + 0 0"
   ]
  },
  {
   "cell_type": "markdown",
   "id": "9df37ca6",
   "metadata": {},
   "source": [
    "10. How can you tell the difference between break and continue?\n",
    "break will exit the loop it is used if after ceratin contion furthur loop is not required to run \n",
    "continue will skip the execution and jump to next cycle of execution will not exit from loop for eg if loop runs for i in range 0 to n and user wants to skip executuion if i==2 will use continue but if user wants that loop should not run after i==2 will use break"
   ]
  },
  {
   "cell_type": "markdown",
   "id": "3dd203a5",
   "metadata": {},
   "source": [
    "11. In a for loop, what is the difference between range(10), range(0, 10), and range(0, 10, 1)?\n",
    "all are same ; range function has 3 parameters start ,end , skip by default start is 0 and skip is 1 if nothin specified"
   ]
  },
  {
   "cell_type": "markdown",
   "id": "cf6a79f1",
   "metadata": {},
   "source": [
    "12. Write a short program that prints the numbers 1 to 10 using a for loop. Then write an equivalent program that prints the numbers 1 to 10 using a while loop.\n",
    "for i in range (1,11):\n",
    "    print(i)\n",
    "    \n",
    "i=0\n",
    "while i<10:\n",
    "        i=i+1\n",
    "        print(i)"
   ]
  },
  {
   "cell_type": "code",
   "execution_count": null,
   "id": "001522c3",
   "metadata": {},
   "outputs": [],
   "source": [
    "13. If you had a function named bacon() inside a module named spam, how would you call it after importing spam?\n",
    "class b(spam):\n",
    "    def method():\n",
    "        super().spam()"
   ]
  }
 ],
 "metadata": {
  "kernelspec": {
   "display_name": "Python 3",
   "language": "python",
   "name": "python3"
  },
  "language_info": {
   "codemirror_mode": {
    "name": "ipython",
    "version": 3
   },
   "file_extension": ".py",
   "mimetype": "text/x-python",
   "name": "python",
   "nbconvert_exporter": "python",
   "pygments_lexer": "ipython3",
   "version": "3.8.8"
  }
 },
 "nbformat": 4,
 "nbformat_minor": 5
}
