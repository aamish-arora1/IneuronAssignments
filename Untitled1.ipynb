{
 "cells": [
  {
   "cell_type": "markdown",
   "id": "131479b4",
   "metadata": {},
   "source": [
    " 1. In the below elements which of them are values or an expression? eg:- values can be integer or string and expressions will be mathematical operators.\n",
    "* \n",
    "'hello'\n",
    "-87.8\n",
    "- \n",
    "/ \n",
    "+\t\n",
    "6 \n"
   ]
  },
  {
   "cell_type": "markdown",
   "id": "97b8dd66",
   "metadata": {},
   "source": [
    "values: 'hello' , -87.8,6\n",
    "expression : *, -, /, +"
   ]
  },
  {
   "cell_type": "markdown",
   "id": "a1e44fea",
   "metadata": {},
   "source": [
    "2. What is the difference between string and variable?"
   ]
  },
  {
   "cell_type": "markdown",
   "id": "2bb570a4",
   "metadata": {},
   "source": [
    "Strings are contained in \"\" eg \"absc99 efgh @#\" but variables are containers that store values eg: abc=67 abc is a variable with value 67"
   ]
  },
  {
   "cell_type": "markdown",
   "id": "2ff6f9ec",
   "metadata": {},
   "source": [
    "3. Describe three different data types."
   ]
  },
  {
   "cell_type": "markdown",
   "id": "b86a1d85",
   "metadata": {},
   "source": [
    "Numeric data type : it has all numbers like 2,-67,9.8\n",
    "String data type include strings like \"abc\",'d',\"this is string\"\n",
    "boolean data type has boolean values like 'True' and 'False'"
   ]
  },
  {
   "cell_type": "markdown",
   "id": "64a32f62",
   "metadata": {},
   "source": [
    "4. What is an expression made up of? What do all expressions do?"
   ]
  },
  {
   "cell_type": "markdown",
   "id": "b16a9329",
   "metadata": {},
   "source": [
    "expression has a value and a operator and they produce a result based on operator for eg: a+b=c this is an expression that states on adding a and b value is c"
   ]
  },
  {
   "cell_type": "markdown",
   "id": "e736f9f1",
   "metadata": {},
   "source": [
    "5. This assignment statements, like spam = 10. What is the difference between an expression and a statement?"
   ]
  },
  {
   "cell_type": "markdown",
   "id": "f21c6023",
   "metadata": {},
   "source": [
    "expression performs and operation on value it has a operator and operand while statement state that spam has value 10"
   ]
  },
  {
   "cell_type": "markdown",
   "id": "6bcf93f6",
   "metadata": {},
   "source": [
    "6. After running the following code, what does the variable bacon contain?\n",
    "bacon = 22\n",
    "bacon + 1\n"
   ]
  },
  {
   "cell_type": "markdown",
   "id": "b23c63c4",
   "metadata": {},
   "source": [
    "bacon will be 22 as there is no assignment done with expression bacon +1"
   ]
  },
  {
   "cell_type": "markdown",
   "id": "01a72d5f",
   "metadata": {},
   "source": [
    "7. What should the values of the following two terms be?\n",
    "'spam' + 'spamspam'\n",
    "'spam' * 3\n"
   ]
  },
  {
   "cell_type": "markdown",
   "id": "33406851",
   "metadata": {},
   "source": [
    "'spam'+'spamspam'='spamspamspam'\n",
    "'spam' * 3='spamspamspam'"
   ]
  },
  {
   "cell_type": "markdown",
   "id": "23964a46",
   "metadata": {},
   "source": [
    "8. Why is eggs a valid variable name while 100 is invalid?"
   ]
  },
  {
   "cell_type": "markdown",
   "id": "880fbc80",
   "metadata": {},
   "source": [
    "A variable name must start with a letter or underscore '_' and variable name cannot start with a numeric value"
   ]
  },
  {
   "cell_type": "markdown",
   "id": "639dcc70",
   "metadata": {},
   "source": [
    "9. What three functions can be used to get the integer, floating-point number, or string version of a value?"
   ]
  },
  {
   "cell_type": "markdown",
   "id": "1c0e353c",
   "metadata": {},
   "source": [
    "for integer int()\n",
    "for floating-point float()\n",
    "for string str()"
   ]
  },
  {
   "cell_type": "markdown",
   "id": "c1c525fb",
   "metadata": {},
   "source": [
    "10. Why does this expression cause an error? How can you fix it?\n",
    "'I have eaten ' + 99 + ' burritos.'\n"
   ]
  },
  {
   "cell_type": "markdown",
   "id": "57116227",
   "metadata": {},
   "source": [
    "because 99 is an integer value and integer can not be concatenated with string \n",
    "solution:  'I have eaten ' + '99' + ' burritos.'"
   ]
  }
 ],
 "metadata": {
  "kernelspec": {
   "display_name": "Python 3",
   "language": "python",
   "name": "python3"
  },
  "language_info": {
   "codemirror_mode": {
    "name": "ipython",
    "version": 3
   },
   "file_extension": ".py",
   "mimetype": "text/x-python",
   "name": "python",
   "nbconvert_exporter": "python",
   "pygments_lexer": "ipython3",
   "version": "3.8.8"
  }
 },
 "nbformat": 4,
 "nbformat_minor": 5
}
