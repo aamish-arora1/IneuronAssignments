{
 "cells": [
  {
   "cell_type": "markdown",
   "id": "46dae6b8",
   "metadata": {},
   "source": [
    "1.\tWrite a Python program to convert kilometers to miles?\n"
   ]
  },
  {
   "cell_type": "code",
   "execution_count": 1,
   "id": "dc464907",
   "metadata": {},
   "outputs": [
    {
     "data": {
      "text/plain": [
       "1.242742384474668"
      ]
     },
     "execution_count": 1,
     "metadata": {},
     "output_type": "execute_result"
    }
   ],
   "source": [
    "\n",
    "def convert(km):\n",
    "    return km/1.609344\n",
    "convert(2)"
   ]
  },
  {
   "cell_type": "markdown",
   "id": "a7b11082",
   "metadata": {},
   "source": [
    "2.\tWrite a Python program to convert Celsius to Fahrenheit?\n"
   ]
  },
  {
   "cell_type": "code",
   "execution_count": 2,
   "id": "7a4a77c4",
   "metadata": {},
   "outputs": [
    {
     "data": {
      "text/plain": [
       "98.60000000000001"
      ]
     },
     "execution_count": 2,
     "metadata": {},
     "output_type": "execute_result"
    }
   ],
   "source": [
    "def converctoF(c):\n",
    "    return (c*1.8)+32\n",
    "converctoF(37)"
   ]
  },
  {
   "cell_type": "markdown",
   "id": "cfdc0edc",
   "metadata": {},
   "source": [
    "3.\tWrite a Python program to display calendar?\n"
   ]
  },
  {
   "cell_type": "code",
   "execution_count": 8,
   "id": "ff3f2b58",
   "metadata": {},
   "outputs": [
    {
     "name": "stdout",
     "output_type": "stream",
     "text": [
      "                                  2022\n",
      "\n",
      "      January                   February                   March\n",
      "Mo Tu We Th Fr Sa Su      Mo Tu We Th Fr Sa Su      Mo Tu We Th Fr Sa Su\n",
      "                1  2          1  2  3  4  5  6          1  2  3  4  5  6\n",
      " 3  4  5  6  7  8  9       7  8  9 10 11 12 13       7  8  9 10 11 12 13\n",
      "10 11 12 13 14 15 16      14 15 16 17 18 19 20      14 15 16 17 18 19 20\n",
      "17 18 19 20 21 22 23      21 22 23 24 25 26 27      21 22 23 24 25 26 27\n",
      "24 25 26 27 28 29 30      28                        28 29 30 31\n",
      "31\n",
      "\n",
      "       April                      May                       June\n",
      "Mo Tu We Th Fr Sa Su      Mo Tu We Th Fr Sa Su      Mo Tu We Th Fr Sa Su\n",
      "             1  2  3                         1             1  2  3  4  5\n",
      " 4  5  6  7  8  9 10       2  3  4  5  6  7  8       6  7  8  9 10 11 12\n",
      "11 12 13 14 15 16 17       9 10 11 12 13 14 15      13 14 15 16 17 18 19\n",
      "18 19 20 21 22 23 24      16 17 18 19 20 21 22      20 21 22 23 24 25 26\n",
      "25 26 27 28 29 30         23 24 25 26 27 28 29      27 28 29 30\n",
      "                          30 31\n",
      "\n",
      "        July                     August                  September\n",
      "Mo Tu We Th Fr Sa Su      Mo Tu We Th Fr Sa Su      Mo Tu We Th Fr Sa Su\n",
      "             1  2  3       1  2  3  4  5  6  7                1  2  3  4\n",
      " 4  5  6  7  8  9 10       8  9 10 11 12 13 14       5  6  7  8  9 10 11\n",
      "11 12 13 14 15 16 17      15 16 17 18 19 20 21      12 13 14 15 16 17 18\n",
      "18 19 20 21 22 23 24      22 23 24 25 26 27 28      19 20 21 22 23 24 25\n",
      "25 26 27 28 29 30 31      29 30 31                  26 27 28 29 30\n",
      "\n",
      "      October                   November                  December\n",
      "Mo Tu We Th Fr Sa Su      Mo Tu We Th Fr Sa Su      Mo Tu We Th Fr Sa Su\n",
      "                1  2          1  2  3  4  5  6                1  2  3  4\n",
      " 3  4  5  6  7  8  9       7  8  9 10 11 12 13       5  6  7  8  9 10 11\n",
      "10 11 12 13 14 15 16      14 15 16 17 18 19 20      12 13 14 15 16 17 18\n",
      "17 18 19 20 21 22 23      21 22 23 24 25 26 27      19 20 21 22 23 24 25\n",
      "24 25 26 27 28 29 30      28 29 30                  26 27 28 29 30 31\n",
      "31\n",
      "\n"
     ]
    }
   ],
   "source": [
    "import calendar\n",
    "year = 2022\n",
    "    \n",
    "def printCalendar(year):\n",
    "    print(calendar.calendar(year))\n",
    "    \n",
    "printCalendar(year)\n"
   ]
  },
  {
   "cell_type": "markdown",
   "id": "8b993eb8",
   "metadata": {},
   "source": [
    "4.\tWrite a Python program to solve quadratic equation?"
   ]
  },
  {
   "cell_type": "code",
   "execution_count": 24,
   "id": "3e5ce30b",
   "metadata": {},
   "outputs": [
    {
     "name": "stdout",
     "output_type": "stream",
     "text": [
      "Complex Roots\n"
     ]
    },
    {
     "data": {
      "text/plain": [
       "((-0.5+2j), (-0.5-2j))"
      ]
     },
     "execution_count": 24,
     "metadata": {},
     "output_type": "execute_result"
    }
   ],
   "source": [
    "import math\n",
    "def solveQuad(a,b,c):\n",
    "    if a==0:\n",
    "        print(\"equation is incorrrect\")\n",
    "    else:\n",
    "        d = b * b - 4 * a * c \n",
    "        val = math.sqrt(abs(d)) \n",
    "\n",
    "        if d > 0: \n",
    "            print(\" real and different roots \") \n",
    "            return (-b + val)/(2 * a),(-b - val)/(2 * a)\n",
    "\n",
    "        elif d == 0: \n",
    "            print(\" real and same roots\") \n",
    "            return -b / (2 * a)\n",
    "\n",
    "        else:\n",
    "            print(\"Complex Roots\") \n",
    "            j=- b / (2 * a)\n",
    "            return complex(j,val),complex(j,-val)\n",
    "\n",
    "solveQuad(2,2,1)\n",
    "   "
   ]
  },
  {
   "cell_type": "markdown",
   "id": "647cc1b9",
   "metadata": {},
   "source": [
    "\n",
    "5.\tWrite a Python program to swap two variables without temp variable?"
   ]
  },
  {
   "cell_type": "code",
   "execution_count": 32,
   "id": "7a445814",
   "metadata": {},
   "outputs": [
    {
     "name": "stdout",
     "output_type": "stream",
     "text": [
      "6 5\n"
     ]
    }
   ],
   "source": [
    "def swapNum(num1,num2):\n",
    "    try:\n",
    "        num1=num1+num2\n",
    "        num2=num1-num2\n",
    "        return (num1-num2),num2\n",
    "    except:\n",
    "        print(\"enter numbers\")\n",
    "a,b=5,6\n",
    "a,b=swapNum(a,b)\n",
    "print(str(a)+\" \"+str(b))"
   ]
  }
 ],
 "metadata": {
  "kernelspec": {
   "display_name": "Python 3",
   "language": "python",
   "name": "python3"
  },
  "language_info": {
   "codemirror_mode": {
    "name": "ipython",
    "version": 3
   },
   "file_extension": ".py",
   "mimetype": "text/x-python",
   "name": "python",
   "nbconvert_exporter": "python",
   "pygments_lexer": "ipython3",
   "version": "3.8.8"
  }
 },
 "nbformat": 4,
 "nbformat_minor": 5
}
